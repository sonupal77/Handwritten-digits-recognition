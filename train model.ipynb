{
 "cells": [
  {
   "cell_type": "code",
   "execution_count": 14,
   "metadata": {},
   "outputs": [
    {
     "name": "stdout",
     "output_type": "stream",
     "text": [
      "data shape (1797, 64)\n",
      "target shape (1797,)\n",
      "images shape (1797, 8, 8)\n"
     ]
    }
   ],
   "source": [
    "from sklearn.datasets import load_digits\n",
    "\n",
    "dataset = load_digits()\n",
    "\n",
    "data = dataset.data\n",
    "images = dataset.images\n",
    "target = dataset.target\n",
    "\n",
    "print('data shape',data.shape)\n",
    "print('target shape',target.shape)\n",
    "print('images shape',images.shape)"
   ]
  },
  {
   "cell_type": "code",
   "execution_count": 16,
   "metadata": {},
   "outputs": [
    {
     "name": "stdout",
     "output_type": "stream",
     "text": [
      "target 1\n"
     ]
    },
    {
     "data": {
      "image/png": "[encoded data removed]",
      "text/plain": [
       "<Figure size 432x288 with 1 Axes>"
      ]
     },
     "metadata": {
      "needs_background": "light"
     },
     "output_type": "display_data"
    }
   ],
   "source": [
    "from matplotlib import pyplot as plt\n",
    "\n",
    "plt.imshow(images[200], cmap='gray')\n",
    "print('target',target[200])"
   ]
  },
  {
   "cell_type": "code",
   "execution_count": 17,
   "metadata": {},
   "outputs": [
    {
     "data": {
      "text/plain": [
       "<matplotlib.image.AxesImage at 0xf4fbce2790>"
      ]
     },
     "execution_count": 17,
     "metadata": {},
     "output_type": "execute_result"
    },
    {
     "data": {
      "image/png": "[encoded data removed]",
      "text/plain": [
       "<Figure size 432x288 with 1 Axes>"
      ]
     },
     "metadata": {
      "needs_background": "light"
     },
     "output_type": "display_data"
    }
   ],
   "source": [
    "plt.imshow(data[200].reshape(1,64), cmap='gray')\n"
   ]
  },
  {
   "cell_type": "code",
   "execution_count": 18,
   "metadata": {},
   "outputs": [
    {
     "name": "stdout",
     "output_type": "stream",
     "text": [
      "[[ 0.  0.  0.  0. 11. 12.  0.  0.]\n",
      " [ 0.  0.  0.  3. 15. 14.  0.  0.]\n",
      " [ 0.  0.  0. 11. 16. 11.  0.  0.]\n",
      " [ 0.  0.  9. 16. 16. 10.  0.  0.]\n",
      " [ 0.  4. 16. 12. 16. 12.  0.  0.]\n",
      " [ 0.  3. 10.  3. 16. 11.  0.  0.]\n",
      " [ 0.  0.  0.  0. 16. 14.  0.  0.]\n",
      " [ 0.  0.  0.  0. 11. 11.  0.  0.]]\n"
     ]
    }
   ],
   "source": [
    "print(images[200])"
   ]
  },
  {
   "cell_type": "code",
   "execution_count": 19,
   "metadata": {},
   "outputs": [
    {
     "name": "stdout",
     "output_type": "stream",
     "text": [
      "[ 0.  0.  0.  0. 11. 12.  0.  0.  0.  0.  0.  3. 15. 14.  0.  0.  0.  0.\n",
      "  0. 11. 16. 11.  0.  0.  0.  0.  9. 16. 16. 10.  0.  0.  0.  4. 16. 12.\n",
      " 16. 12.  0.  0.  0.  3. 10.  3. 16. 11.  0.  0.  0.  0.  0.  0. 16. 14.\n",
      "  0.  0.  0.  0.  0.  0. 11. 11.  0.  0.]\n"
     ]
    }
   ],
   "source": [
    "print(data[200])"
   ]
  },
  {
   "cell_type": "code",
   "execution_count": 20,
   "metadata": {},
   "outputs": [],
   "source": [
    "from sklearn.model_selection import train_test_split\n",
    "\n",
    "train_data, test_data, train_target, test_target = train_test_split(data, target, test_size=0.2)"
   ]
  },
  {
   "cell_type": "code",
   "execution_count": 21,
   "metadata": {},
   "outputs": [
    {
     "data": {
      "text/plain": [
       "KNeighborsClassifier()"
      ]
     },
     "execution_count": 21,
     "metadata": {},
     "output_type": "execute_result"
    }
   ],
   "source": [
    "from sklearn.neighbors import KNeighborsClassifier\n",
    "\n",
    "#Loading KNN algorithm to model\n",
    "model1 = KNeighborsClassifier()\n",
    "\n",
    "#Training the model\n",
    "model1.fit(train_data, train_target)"
   ]
  },
  {
   "cell_type": "code",
   "execution_count": 25,
   "metadata": {},
   "outputs": [
    {
     "name": "stdout",
     "output_type": "stream",
     "text": [
      "(360, 64)\n"
     ]
    }
   ],
   "source": [
    "print(test_data.shape)"
   ]
  },
  {
   "cell_type": "code",
   "execution_count": 27,
   "metadata": {},
   "outputs": [],
   "source": [
    "#Applying testing images into the trained model\n",
    "predicted_target = model1.predict(test_data) "
   ]
  },
  {
   "cell_type": "code",
   "execution_count": 28,
   "metadata": {},
   "outputs": [
    {
     "name": "stdout",
     "output_type": "stream",
     "text": [
      "Accuracy: 0.9777777777777777\n"
     ]
    }
   ],
   "source": [
    "from sklearn.metrics import accuracy_score\n",
    "\n",
    "acc = accuracy_score(test_target, predicted_target)\n",
    "print('Accuracy:', acc)"
   ]
  },
  {
   "cell_type": "code",
   "execution_count": 29,
   "metadata": {},
   "outputs": [
    {
     "data": {
      "text/plain": [
       "356.4"
      ]
     },
     "execution_count": 29,
     "metadata": {},
     "output_type": "execute_result"
    }
   ],
   "source": [
    "360*0.99"
   ]
  },
  {
   "cell_type": "code",
   "execution_count": 30,
   "metadata": {},
   "outputs": [
    {
     "name": "stdout",
     "output_type": "stream",
     "text": [
      "Predicted Digts: [8 6 6 3 2 4 1 9 4 6 3 1 1 5 9 6 1 2 6 8 2 3 7 0 9 9 5 3 2 4 5 1 4 2 9 8 2\n",
      " 3 6 8 5 3 8 5 3 2 7 3 9 6 2 4 9 9 9 0 1 2 7 3 3 3 1 2 3 9 2 4 1 4 7 5 9 3\n",
      " 3 3 4 1 8 3 8 8 7 9 6 1 5 5 6 0 7 7 3 8 3 4 5 1 8 3 1 5 8 9 6 9 9 6 0 2 4\n",
      " 7 7 3 3 7 7 5 5 4 1 8 2 6 0 5 8 5 8 8 9 7 7 2 6 2 4 8 9 9 8 0 5 8 2 5 7 4\n",
      " 3 0 1 0 0 3 8 7 2 4 6 8 8 5 3 8 5 8 3 4 4 4 8 3 3 8 3 1 3 6 2 1 6 3 9 7 6\n",
      " 0 5 8 3 3 8 8 3 8 9 7 8 5 1 3 7 2 0 4 7 4 8 3 5 7 1 7 2 7 0 6 2 4 5 0 9 3\n",
      " 2 5 3 3 5 3 6 7 0 4 0 4 3 6 7 8 1 0 9 4 6 7 3 6 3 3 0 2 0 8 3 0 6 5 6 4 2\n",
      " 0 9 8 7 0 7 3 8 8 4 0 7 3 1 1 4 4 5 1 0 5 1 3 4 6 4 1 0 0 1 9 6 9 3 3 8 9\n",
      " 5 7 1 1 5 8 9 1 6 6 7 9 7 5 9 2 2 5 9 2 8 2 9 6 0 5 5 5 1 3 1 1 0 5 0 8 7\n",
      " 6 3 8 8 6 5 3 1 5 0 6 1 1 7 4 9 1 8 1 9 8 4 9 6 1 2 8]\n",
      "Actual Digts: [8 6 6 3 2 4 1 9 4 6 3 1 1 5 9 6 1 2 6 8 2 3 7 0 9 9 5 3 2 4 5 1 4 2 9 8 2\n",
      " 3 6 8 5 3 8 5 3 2 7 3 9 6 2 4 9 9 9 0 1 2 7 3 3 3 1 2 3 9 2 4 1 4 7 5 9 3\n",
      " 3 3 4 1 9 3 8 8 7 9 6 1 5 5 6 0 7 7 3 8 3 4 5 1 8 3 1 5 8 8 6 9 9 6 0 2 4\n",
      " 7 7 3 3 7 7 5 5 4 1 8 2 6 0 5 8 5 8 8 9 7 7 2 6 2 4 8 9 5 8 0 5 8 2 5 7 4\n",
      " 3 0 1 0 0 3 8 7 2 4 6 8 8 5 3 8 5 8 3 4 4 4 8 3 3 8 3 1 3 6 2 1 6 8 9 7 6\n",
      " 0 5 8 3 3 8 8 3 8 9 7 8 5 1 3 7 2 0 4 7 4 8 3 5 7 1 7 2 7 0 6 2 4 5 0 9 3\n",
      " 2 5 3 3 5 3 6 7 0 4 0 4 3 6 7 8 1 0 9 4 6 7 3 6 3 3 0 2 0 8 3 0 6 5 6 4 2\n",
      " 0 9 8 7 0 7 3 8 8 4 0 7 3 1 1 4 4 5 1 0 5 1 3 4 6 4 1 0 0 1 9 6 9 3 3 8 9\n",
      " 5 7 1 1 5 8 9 1 6 6 7 9 7 5 9 2 2 5 9 2 8 2 9 6 0 5 9 5 1 8 1 1 0 5 0 8 7\n",
      " 6 3 8 8 6 5 3 1 5 0 6 1 1 7 4 9 1 8 4 9 6 4 9 6 1 2 8]\n"
     ]
    }
   ],
   "source": [
    "print('Predicted Digts:', predicted_target)\n",
    "print('Actual Digts:', test_target)"
   ]
  },
  {
   "cell_type": "code",
   "execution_count": 35,
   "metadata": {},
   "outputs": [],
   "source": [
    "\n",
    "import joblib\n"
   ]
  },
  {
   "cell_type": "code",
   "execution_count": 31,
   "metadata": {},
   "outputs": [
    {
     "data": {
      "text/plain": [
       "['KNN-handwritten-digits.sav']"
      ]
     },
     "execution_count": 31,
     "metadata": {},
     "output_type": "execute_result"
    }
   ],
   "source": [
    "joblib.dump(model1, 'KNN-handwritten-digits.sav')"
   ]
  }
 ],
 "metadata": {
  "kernelspec": {
   "display_name": "Python 3",
   "language": "python",
   "name": "python3"
  },
  "language_info": {
   "codemirror_mode": {
    "name": "ipython",
    "version": 3
   },
   "file_extension": ".py",
   "mimetype": "text/x-python",
   "name": "python",
   "nbconvert_exporter": "python",
   "pygments_lexer": "ipython3",
   "version": "3.8.3"
  }
 },
 "nbformat": 4,
 "nbformat_minor": 4
}
